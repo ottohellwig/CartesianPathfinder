{
 "cells": [
  {
   "cell_type": "markdown",
   "id": "de8fc512-f8db-4d17-b5ff-fdd4ad5b5942",
   "metadata": {},
   "source": [
    "# Path Optimisation\n",
    "\n",
    "The functions within this interactive notebook aim to determine the distance between cartesian coordinates, optimise and determine the best, closest or total path distance. \n",
    "\n",
    "<hr/>"
   ]
  },
  {
   "cell_type": "code",
   "execution_count": 6,
   "id": "cced359f-3065-4754-8f75-f918867938df",
   "metadata": {},
   "outputs": [],
   "source": [
    "import math"
   ]
  },
  {
   "cell_type": "markdown",
   "id": "c7a92ffe-4272-4bb0-b919-09364008c0f9",
   "metadata": {},
   "source": [
    "\n",
    "The parameters for the function were created using the Pythagorean theorem formula for 2-dimensional distance [d=sqrt(x2-x1)^2+(y2-y1)^2]. I used indices [0] and [1] within the list as the variables p1 and p2 were two separate coordinates (I needed to use two different positions e.g. (1,2) and (2,3) as I could not derive a distance otherwise. By implementing indices I was able to replicate the x and y variables as in the formula. Originally I attempted to use the Python math module, math.dist() to solve for the points however it did not return the exact decimal values and also gave a boolean expression of False for the == test. \n",
    "</div>"
   ]
  },
  {
   "cell_type": "code",
   "execution_count": 7,
   "id": "1de4218e-4731-4905-aaed-12b02ac6d95f",
   "metadata": {
    "tags": []
   },
   "outputs": [],
   "source": [
    "# This function takes two points p1 and p2 and computes the distance between those two points.\n",
    "#   each point is represented by a tuple containing the x and y coordinate of the point\n",
    "#   for example (1,2) represents the point with an x coordinate of 1 and a y coordinate of 2\n",
    "\n",
    "def distance(p1, p2) :\n",
    "    distance = math.sqrt( ((p1[0]-p2[0])**2)+((p1[1]-p2[1])**2) )\n",
    "    return distance"
   ]
  },
  {
   "cell_type": "code",
   "execution_count": 8,
   "id": "afc47e53-6bb9-4a1a-877b-c16d405580e4",
   "metadata": {},
   "outputs": [
    {
     "data": {
      "text/plain": [
       "2.9154759474226504"
      ]
     },
     "execution_count": 8,
     "metadata": {},
     "output_type": "execute_result"
    }
   ],
   "source": [
    "# A test case for the distance function\n",
    "distance((2.8, 9.8), (0.3, 8.3))\n",
    "# should return 2.9154759474226504"
   ]
  },
  {
   "cell_type": "code",
   "execution_count": 9,
   "id": "5d414b5d-0469-4d70-9a53-0f40c54c83dd",
   "metadata": {},
   "outputs": [
    {
     "data": {
      "text/plain": [
       "True"
      ]
     },
     "execution_count": 9,
     "metadata": {},
     "output_type": "execute_result"
    }
   ],
   "source": [
    "distance((2.8, 9.8), (0.3, 8.3)) == 2.9154759474226504\n",
    "# should return True"
   ]
  },
  {
   "cell_type": "markdown",
   "id": "2c842d63-f909-482f-af64-f1d235fe6b42",
   "metadata": {},
   "source": [
    "The find_closest function required the closest point (the lowest distance value) in comparison to the list. I used a for loop, with the previous parameters current_shortest_path = float(\"inf\") as an infinitely large value, (\"inf\"), to compare to (infinite interger). The variable i in the for loop would be the value which is updated in the loop (the list of remaining_points), so the parameter for i in range (len(remaining_points)): was used so that the values from null to the length of the list (remaining_points) would be calculated by the following parameters. To find the closest point in the list, logically, each value in the list would need to have a distance. The distance_of_this_point is calculated by the distance between the starting coordinates (start_point) and the remaining coordinates (remaining_points[i]). As I needed each remaining point to be calculated I let the for loop cycle through by giving the remaining_points the index of [i]. So the function now has a for loop which has the distance of each point till null (current_shortest_index = None). I then used an if statement as I needed each point to be compared to the current_shortest_path. So if the distance_of_this_point is less than infinity than the current_shortest_path is equal to the distance_of_this_point. This sorts the values to determine the newest shortest path. The current_shortest_index = i selects the coordinates from the remaining_points with the return statement remaining_points[current_shortest_index]. If the current_shortest_index is = to other than \"i\" then it chooses the index position in the list. e.g. current_shortest_index = 2, would cause the function to return the second value in the list.\n",
    "I attempted to import numpy as np and use np.disarray with the variables from the distance function, p1 and p2 then using current_shortest_index = distance(p1, p2).argmin() to solve for the function however it gave SyntaxErrors and NameErrors as I did not assign the variables.\n",
    "</div>"
   ]
  },
  {
   "cell_type": "code",
   "execution_count": 10,
   "id": "89220a8c-fe7f-49d8-9a29-32ba417deafc",
   "metadata": {},
   "outputs": [],
   "source": [
    "# This function takes a start point and a list of remaining points, and returns the remaining point that is closest to the start point\n",
    "# the list of remaining points must contain at least one point\n",
    "\n",
    "def find_closest(start_point, remaining_points):\n",
    "    current_shortest_path = float(\"inf\")\n",
    "    current_shortest_index = None\n",
    "    for i in range (len(remaining_points)):\n",
    "        distance_of_this_point = math.dist(start_point, remaining_points[i])\n",
    "        if (distance_of_this_point < current_shortest_path):\n",
    "            current_shortest_path = distance_of_this_point\n",
    "            current_shortest_index = i\n",
    "            \n",
    "    return remaining_points[current_shortest_index]\n",
    "\n"
   ]
  },
  {
   "cell_type": "code",
   "execution_count": 11,
   "id": "f5071ef6-b7ff-44ab-9e41-296e2f0af883",
   "metadata": {},
   "outputs": [
    {
     "data": {
      "text/plain": [
       "(4.4, 8.8)"
      ]
     },
     "execution_count": 11,
     "metadata": {},
     "output_type": "execute_result"
    }
   ],
   "source": [
    "# A test case for the find_closest function\n",
    "find_closest((2.8, 9.8), [(0.3, 8.3), (4.4, 8.8), (6.8, 7.4), (4.1, 0.3), (4.5, 0.0), (7.6, 1.1), (5.0, 8.2), (7.7, 1.8), (3.4, 6.9), (4.8, 3.2), (0.7, 7.9)])\n",
    "# should return (4.4, 8.8)"
   ]
  },
  {
   "cell_type": "code",
   "execution_count": 12,
   "id": "c524c6ea-d9ba-45a4-9637-edd4fa47c644",
   "metadata": {},
   "outputs": [
    {
     "data": {
      "text/plain": [
       "True"
      ]
     },
     "execution_count": 12,
     "metadata": {},
     "output_type": "execute_result"
    }
   ],
   "source": [
    "find_closest((2.8, 9.8), [(0.3, 8.3), (4.4, 8.8), (6.8, 7.4), (4.1, 0.3), (4.5, 0.0), (7.6, 1.1), (5.0, 8.2), (7.7, 1.8), (3.4, 6.9), (4.8, 3.2), (0.7, 7.9)]) == (4.4, 8.8)\n",
    "# should return True"
   ]
  },
  {
   "cell_type": "markdown",
   "id": "33db6038-2725-4f99-a41e-431fda5d7b2c",
   "metadata": {},
   "source": [
    "\n",
    "I use total_distance = 0 as I want the function to start with total distance being 0 so as the for loop runs, it will calculate the final total distance. In the for loop I use -1 to prevent the loop from trying to calculate a point which should not be calculated. For example, without the -1 the function could either break or the for loop would continuously run similar to While(True) loop. The total distance would logically be equal to the distance of the path[i] (starting point index) and each point after that hence the index [i+1]. Thus, I wrote total distance is equal to the distance between each coordinate until the end (hence the -1 break). As (path) is a single variable I chose the term (path) instead of editing the function name and used the index as seen. \n",
    "Originally there were several issues with this function, I had attempted to use another for loop which was longer and did not work due to parameter issues. I had written:\n",
    "selected_map = [ ]\n",
    "def path_distance(path)\n",
    "    dist_travel = 0\n",
    "    for i in range(len(selected_map)-1):\n",
    "        dist_travel += distance(selected_map[i-len(selected_map)+1][0], selected_map[i-len(selected_map)+1][1], selected_map[i][0], selected_map[i][1])\n",
    "    return path_distance(dist_travel)\n",
    "When running that function it gave the error distance() takes 2 positional arguements but were given 4. This is due to the fact that I had 4 arguements, the selected maps with [] index when the distance function only had 2 which were (p1, p2). Even when I tried to reduce the arguements it would not solve the total distance it would just return the coordinates of the 2 values as the arguements had different variables. I decided to then reintegrate the distance function into the for loop.\n"
   ]
  },
  {
   "cell_type": "code",
   "execution_count": 13,
   "id": "a898c94d-5844-48c7-9f5e-f7f538adb651",
   "metadata": {},
   "outputs": [],
   "source": [
    "# This function takes a list of points and returns the total distance of the path that results from traversing the points as ordered in the list\n",
    "# the path must contain at least one point\n",
    "\n",
    "def path_distance(path) :\n",
    "    total_distance = 0\n",
    "    \n",
    "    for i in range(len(path)-1):\n",
    "        total_distance += distance(path[i], path[i+1])\n",
    "        \n",
    "    return total_distance\n",
    "   "
   ]
  },
  {
   "cell_type": "code",
   "execution_count": 14,
   "id": "9e929b3b-43fb-4215-ac99-1f7e9f02aa7f",
   "metadata": {},
   "outputs": [
    {
     "data": {
      "text/plain": [
       "2.735324363835179"
      ]
     },
     "execution_count": 14,
     "metadata": {},
     "output_type": "execute_result"
    }
   ],
   "source": [
    "# A test case for the path_distance function\n",
    "path_distance([(2.8, 9.8), (4.4, 8.8), (5.0, 8.2)])\n",
    "\n",
    "# the distance from the first point (2.8, 9.8) to the second point (4.4, 8.8) is 1.8867962264113212 and\n",
    "# the distance from the second point (4.4, 8.8) to the third point (5.0, 8.2) is 0.8485281374238578,\n",
    "# so the total distance returned should be 2.735324363835179"
   ]
  },
  {
   "cell_type": "code",
   "execution_count": 15,
   "id": "26b11264-4fa0-4398-8099-6a105e9576e2",
   "metadata": {},
   "outputs": [
    {
     "data": {
      "text/plain": [
       "25.867826243563442"
      ]
     },
     "execution_count": 15,
     "metadata": {},
     "output_type": "execute_result"
    }
   ],
   "source": [
    "# Another test case for the path_length function\n",
    "path_distance([(2.8, 9.8), (4.4, 8.8), (5.0, 8.2), (6.8, 7.4), (3.4, 6.9), (0.7, 7.9), (0.3, 8.3), (4.8, 3.2), (4.1, 0.3), (4.5, 0.0), (7.6, 1.1), (7.7, 1.8)])\n",
    "# should return 25.867826243563442"
   ]
  },
  {
   "cell_type": "code",
   "execution_count": 16,
   "id": "d9ff3839-ab0d-4d66-90b7-968e8e7a1d1a",
   "metadata": {},
   "outputs": [
    {
     "data": {
      "text/plain": [
       "True"
      ]
     },
     "execution_count": 16,
     "metadata": {},
     "output_type": "execute_result"
    }
   ],
   "source": [
    "path_distance([(2.8, 9.8), (4.4, 8.8), (5.0, 8.2), (6.8, 7.4), (3.4, 6.9), (0.7, 7.9), (0.3, 8.3), (4.8, 3.2), (4.1, 0.3), (4.5, 0.0), (7.6, 1.1), (7.7, 1.8)]) == 25.867826243563442\n",
    "# should return True"
   ]
  },
  {
   "cell_type": "markdown",
   "id": "81e045d7-332f-413f-beab-5b4524ca669c",
   "metadata": {},
   "source": [
    "To logically create the arguements to def the function best_path(points) I needed to find a way to change the variable each time to determine whether it is the closest_point in relation to the remaining_points of the list. The path variable was assigned [] so that the path would represent the coordinates/points. I wanted the starting_point to be removed in the while function so that each variable would be gone through without repeating the starting_point. Therefore, I wanted to remove the starting_point each time and only add it once so that the while loop does not repeat the starting_point and can assign/append a new starting_point to the next_closest_point from the remaining_points. I assigned the starting_point = points[0] so that the points are currently at 0. I then use path.append to add the (starting_point) to my list (I chose to use append as it adds a single object to an existing list). Now the starting_point is added to the path I can remove it from the points so it is not added repeatedly in the while loop. I use points.remove(starting_point) to remove it from the (points) variable of the best_path function. I now want to create a while loop as it will continuously repeat until I either return it or use a Boolean expression (this is done so that I can go through each point in the supposed path and is why I am required to remove/append). I reintegrate my function find_closest and assign it to the next_closest_point as I will remove the next closest point and the parameters will then run through the remaining points in the list. From the remaining points I remove the next closest point and now have a theoretical list which has the current closest point. I use path.append to add the next_closest_point so that the code formats the closest points in order to create the path (best_path function). The new starting_point is now equal to the next_closest_point and the while loop repeats until each point is ordered in the path to create the best_path function. "
   ]
  },
  {
   "cell_type": "code",
   "execution_count": 26,
   "id": "e4d86ba2-0a63-4ad4-ba38-8b81ff325d38",
   "metadata": {},
   "outputs": [],
   "source": [
    "# This function takes a list of points and returns a new list of points, \n",
    "# beginning with the first point and then at each stage, moving to the closest point that has not yet been visited.\n",
    "\n",
    "def best_path(points) :\n",
    "    \n",
    "    path = []\n",
    "    starting_point = points[0]\n",
    "    path.append(starting_point)\n",
    "    \n",
    "    points.remove(starting_point)\n",
    "    remaining_points = points\n",
    "    \n",
    "    while (len(remaining_points) > 0):\n",
    "        next_closest_point = find_closest(starting_point, remaining_points)\n",
    "        remaining_points.remove(next_closest_point)\n",
    "        path.append(next_closest_point)\n",
    "        starting_point = next_closest_point\n",
    "        \n",
    "    return path"
   ]
  },
  {
   "cell_type": "code",
   "execution_count": 27,
   "id": "233567ff-b37e-4439-8dfa-ed42b2471803",
   "metadata": {},
   "outputs": [
    {
     "name": "stdout",
     "output_type": "stream",
     "text": [
      "[(2.8, 9.8), (4.4, 8.8), (5.0, 8.2), (6.8, 7.4), (3.4, 6.9), (0.7, 7.9), (0.3, 8.3), (4.8, 3.2), (4.1, 0.3), (4.5, 0.0), (7.6, 1.1), (7.7, 1.8)]\n"
     ]
    }
   ],
   "source": [
    "# A test case for the best_path function\n",
    "\n",
    "points = [(2.8, 9.8), (0.3, 8.3), (4.4, 8.8), (6.8, 7.4), (4.1, 0.3), (4.5, 0.0), (7.6, 1.1), (5.0, 8.2), (7.7, 1.8), (3.4, 6.9), (4.8, 3.2), (0.7, 7.9)]\n",
    "\n",
    "path = best_path(points)\n",
    "print(path)\n",
    "\n",
    "# the first point in the input list is (2.8, 9.8), so that appears first in our output list,\n",
    "# the closest point to our start point (2.8, 9.8) is (4.4, 8.8), so (4.4, 8.8) appears second in our list,\n",
    "# the closest remaining point to (4.4, 8.8) is (5.0, 8.2), so (5.0, 8.2) appears third in our list,\n",
    "# and so on. So the best path should be\n",
    "# [(2.8, 9.8), (4.4, 8.8), (5.0, 8.2), (6.8, 7.4), (3.4, 6.9), (0.7, 7.9), (0.3, 8.3), (4.8, 3.2), (4.1, 0.3), (4.5, 0.0), (7.6, 1.1), (7.7, 1.8)]"
   ]
  },
  {
   "cell_type": "code",
   "execution_count": null,
   "id": "b0891e35-6123-4347-ba06-99b73d5f646a",
   "metadata": {},
   "outputs": [
    {
     "name": "stdout",
     "output_type": "stream",
     "text": [
      "[]\n"
     ]
    }
   ],
   "source": [
    "#Note, the list of points passed to the best_path function should not be modified as a result of calling best_path, \n",
    "print(points)\n",
    "#so its value should remain as:\n",
    "# [(2.8, 9.8), (0.3, 8.3), (4.4, 8.8), (6.8, 7.4), (4.1, 0.3), (4.5, 0.0), (7.6, 1.1), (5.0, 8.2), (7.7, 1.8), (3.4, 6.9), (4.8, 3.2), (0.7, 7.9)]"
   ]
  },
  {
   "cell_type": "code",
   "execution_count": null,
   "id": "43ff7c33-9691-4100-b120-1c08f9879748",
   "metadata": {},
   "outputs": [
    {
     "data": {
      "text/plain": [
       "25.867826243563442"
      ]
     },
     "execution_count": 94,
     "metadata": {},
     "output_type": "execute_result"
    }
   ],
   "source": [
    "path_distance(path)\n",
    "# should return 25.867826243563442"
   ]
  },
  {
   "cell_type": "code",
   "execution_count": 20,
   "id": "03143664-726b-4596-b915-88fc5e9201b4",
   "metadata": {},
   "outputs": [
    {
     "data": {
      "text/plain": [
       "True"
      ]
     },
     "execution_count": 20,
     "metadata": {},
     "output_type": "execute_result"
    }
   ],
   "source": [
    "path_distance(path) == 25.867826243563442\n",
    "# should return True"
   ]
  },
  {
   "cell_type": "code",
   "execution_count": 21,
   "id": "b7cc9943-5232-416d-91f3-a906f135b6cf",
   "metadata": {},
   "outputs": [
    {
     "name": "stderr",
     "output_type": "stream",
     "text": [
      "Matplotlib is building the font cache; this may take a moment.\n"
     ]
    },
    {
     "data": {
      "text/plain": [
       "[<matplotlib.lines.Line2D at 0x18dcb4509a0>]"
      ]
     },
     "execution_count": 21,
     "metadata": {},
     "output_type": "execute_result"
    },
    {
     "data": {
      "image/png": "[encoded data removed]",
      "text/plain": [
       "<Figure size 432x288 with 1 Axes>"
      ]
     },
     "metadata": {
      "needs_background": "light"
     },
     "output_type": "display_data"
    }
   ],
   "source": [
    "# some visual plotting code, just for fun\n",
    "\n",
    "import matplotlib.pyplot\n",
    "matplotlib.pyplot.plot(*zip(*path))\n"
   ]
  }
 ],
 "metadata": {
  "kernelspec": {
   "display_name": "Python 3.8.5 64-bit",
   "language": "python",
   "name": "python3"
  },
  "language_info": {
   "codemirror_mode": {
    "name": "ipython",
    "version": 3
   },
   "file_extension": ".py",
   "mimetype": "text/x-python",
   "name": "python",
   "nbconvert_exporter": "python",
   "pygments_lexer": "ipython3",
   "version": "3.8.5"
  },
  "vscode": {
   "interpreter": {
    "hash": "bec00f2388f781b1ae9bed4ed989ad296a6714ff32294eab68af8aef4997e8cb"
   }
  }
 },
 "nbformat": 4,
 "nbformat_minor": 5
}
